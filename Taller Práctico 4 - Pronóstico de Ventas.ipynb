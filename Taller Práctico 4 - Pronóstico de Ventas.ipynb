{
 "cells": [
  {
   "cell_type": "markdown",
   "id": "d881c9ba",
   "metadata": {},
   "source": [
    "# Taller Práctico 4: Construcción de Modelos Analíticos de Pronóstico de Ventas\n",
    "\n",
    "\n",
    "**Objetivos del Taller:**\n",
    "\n",
    "* Construir un modelo de regresión lineal para predecir el valor total de las ventas futuras.\n",
    "* Realizar un pronóstico de ventas diferenciando el canal de ventas.\n",
    "* Utilizar métricas estadísticas para evaluar la precisión y la utilidad del modelo de pronóstico de ventas."
   ]
  },
  {
   "cell_type": "markdown",
   "id": "1d7231c8",
   "metadata": {},
   "source": [
    "# Introducción al Pronóstico de Ventas\n",
    "\n",
    "El pronóstico de ventas es una técnica analítica esencial para prever el volumen de ventas futuro basado en datos históricos y tendencias de mercado. Este proceso es vital para la planificación estratégica en negocios, permitiendo a las empresas anticipar ingresos, gestionar inventarios, optimizar recursos y planificar futuras campañas de marketing. A continuación, se detallan algunos beneficios clave del pronóstico de ventas:\n",
    "\n",
    "* **Planificación Financiera y de Inventario:** El pronóstico de ventas ayuda a las empresas a prever los ingresos futuros y a gestionar mejor el inventario, reduciendo el exceso de stock y evitando rupturas de stock.\n",
    "\n",
    "* **Toma de Decisiones Estratégicas:**  Con un pronóstico confiable, las empresas pueden tomar decisiones más informadas sobre expansión, inversiones y estrategias de mercado, adaptándose mejor a las dinámicas del mercado.\n",
    "\n",
    "* **Eficiencia Operativa:** Al prever la demanda futura, las empresas pueden optimizar la asignación de recursos a la producción y la logística, mejorando la eficiencia operativa."
   ]
  },
  {
   "cell_type": "markdown",
   "id": "d3a60736",
   "metadata": {},
   "source": [
    "# Construcción de un Modelo Analítico Orientado al Pronóstico de Ventas\n",
    "\n",
    "## Instalar las bibliotecas necesarias\n",
    "\n",
    "Lo primero que debemos hacer es asegurarnos de tener todas las bibliotecas necesarias instaladas y cargadas en nuestro entorno de trabajo. Estas bibliotecas proporcionan las herramientas fundamentales para manipular datos, realizar análisis estadísticos, construir y evaluar modelos de machine learning. A continuación, se muestran las bibliotecas que utilizaremos a lo largo de este notebook:\n",
    "\n",
    "* **numpy:** Biblioteca fundamental para operaciones matemáticas avanzadas y manipulación de arreglos en Python.\n",
    "\n",
    "* **pandas:** Biblioteca poderosa para el análisis de datos, especialmente útil para trabajar con datos en formato de tablas (DataFrames).\n",
    "\n",
    "* **seaborn:** Biblioteca para visualización de datos que facilita la creación de gráficos estadísticos claros y atractivos.\n",
    "\n",
    "* **matplotlib:** Biblioteca esencial para crear visualizaciones y gráficos personalizados en Python.\n",
    "\n",
    "* **sklearn:** Conjunto de herramientas de machine learning en Python que incluye algoritmos para clasificación, regresión y agrupamiento, entre otros."
   ]
  },
  {
   "cell_type": "code",
   "execution_count": null,
   "id": "9eb5d086",
   "metadata": {},
   "outputs": [],
   "source": [
    "#!pip install numpy pandas seaborn matplotlib scikit-learn"
   ]
  },
  {
   "cell_type": "markdown",
   "id": "8111eadd",
   "metadata": {},
   "source": [
    "## Cargar las bibliotecas previamente instaladas\n",
    "\n",
    "Ahora que tenemos instaladas todas las bibliotecas necesarias, procedemos a cargarlas en nuestro entorno de trabajo."
   ]
  },
  {
   "cell_type": "code",
   "execution_count": null,
   "id": "0ce060e6",
   "metadata": {},
   "outputs": [],
   "source": [
    "import numpy as np\n",
    "import pandas as pd\n",
    "import seaborn as sns\n",
    "import matplotlib.pyplot as plt\n",
    "import matplotlib.dates as mdates\n",
    "\n",
    "from datetime import datetime\n",
    "from sklearn.linear_model import LinearRegression\n",
    "from sklearn.model_selection import train_test_split\n",
    "from sklearn.metrics import mean_squared_error, mean_absolute_error, r2_score"
   ]
  },
  {
   "cell_type": "markdown",
   "id": "51b4365d",
   "metadata": {},
   "source": [
    "## Cargar el conjunto de datos\n",
    "\n",
    "Con las bibliotecas listas, el siguiente paso es cargar nuestro conjunto de datos que utilizaremos para la construcción de nuestro modelo de pronóstico de ventas."
   ]
  },
  {
   "cell_type": "code",
   "execution_count": null,
   "id": "ad932ec4",
   "metadata": {},
   "outputs": [],
   "source": [
    "# Cargar los datos desde un archivo CSV\n",
    "data = pd.read_csv('./data/customer_transactions_dataset.csv')\n",
    "\n",
    "# Realizar una copia de los datos para la etapa de entendimiento\n",
    "data_exploration = data.copy()\n",
    "\n",
    "# Visualizar las primeras filas del dataframe\n",
    "data.head()"
   ]
  },
  {
   "cell_type": "markdown",
   "id": "ad9d0882",
   "metadata": {},
   "source": [
    "## Entendimiento del conjunto de datos\n",
    "\n",
    "Una vez cargado el conjunto de datos, es fundamental tener un entendimiento las variables clave que utilizaremos para construir nuestro modelo de pronóstico de ventas. Aunque en talleres anteriores ya hemos explorado en profundidad la estructura y distribución de los datos, en este caso nos enfocaremos únicamente en las variables de interés para este análisis.\n",
    "\n",
    "En particular, estudiaremos:\n",
    "\n",
    "* `Valor`: El monto de las ventas realizadas.\n",
    "* `Fecha de Compra`: La fecha en que se registraron las transacciones.\n",
    "* `Canal de Venta`: El medio a través del cual se efectuaron las ventas.\n",
    "\n",
    "Comenzaremos analizando la evolución del valor de las ventas a lo largo del tiempo."
   ]
  },
  {
   "cell_type": "markdown",
   "id": "82e2f5f3",
   "metadata": {},
   "source": [
    "### Convertir la columna Fecha de Compra a Date\n",
    "\n",
    "Antes de comenzar con la exploración inicial de la evolución de las ventas, es importante asegurarnos de que la columna Fecha de Compra esté en un formato de fecha adecuado. En Pandas, esto implica convertir esta columna al tipo de dato datetime, lo que facilitará operaciones como agrupaciones, filtrado por rangos de fechas y la generación de visualizaciones temporales. "
   ]
  },
  {
   "cell_type": "code",
   "execution_count": null,
   "id": "f2044b28",
   "metadata": {},
   "outputs": [],
   "source": [
    "# Convertir la columna 'Fecha de Compra' a formato de fecha\n",
    "data_exploration['Fecha de Compra'] = pd.to_datetime(data_exploration['Fecha de Compra'], errors='coerce')\n",
    "data.head()"
   ]
  },
  {
   "cell_type": "markdown",
   "id": "7d53cbcd",
   "metadata": {},
   "source": [
    "### Agrupar Ventas por Fecha\n",
    "\n",
    "El siguiente paso para analizar la evolución de las ventas a lo largo del tiempo es definir la granularidad que utilizaremos en nuestro modelo. En este caso, trabajaremos con una granularidad diaria, lo que nos permitirá observar el comportamiento de las ventas día a día.\n",
    "\n",
    "Para ello, agruparemos los datos por la columna Fecha de Compra y calcularemos el valor total de ventas para cada día. Este enfoque nos proporcionará una visión clara de cómo varían las ventas a nivel diario, sentando las bases para un análisis más detallado."
   ]
  },
  {
   "cell_type": "code",
   "execution_count": null,
   "id": "f71a0b7c",
   "metadata": {},
   "outputs": [],
   "source": [
    "# Agrupar datos por fecha para obtener el valor total de transacciones\n",
    "data_by_date = data_exploration.groupby('Fecha de Compra').agg({'Valor': 'sum'}).reset_index()\n",
    "data_by_date.head()"
   ]
  },
  {
   "cell_type": "markdown",
   "id": "c562d52c",
   "metadata": {},
   "source": [
    "### Evolución de las ventas\n",
    "\n",
    "Una vez que hemos agrupado las ventas por fecha, el siguiente paso es visualizar la evolución del valor total de las transacciones a lo largo del año 2024. Utilizaremos un gráfico de línea para representar cómo varían las ventas a lo largo del tiempo."
   ]
  },
  {
   "cell_type": "code",
   "execution_count": null,
   "id": "b7b62803",
   "metadata": {},
   "outputs": [],
   "source": [
    "# Gráfico de línea para visualizar la evolución del valor total de transacciones\n",
    "plt.figure(figsize=(12, 6))\n",
    "plt.plot(data_by_date['Fecha de Compra'], data_by_date['Valor'], marker='o')\n",
    "plt.title('Evolución del Valor de Transacciones a lo Largo del Tiempo')\n",
    "plt.xlabel('Fecha de Compra')\n",
    "plt.ylabel('Valor Total de Transacciones')\n",
    "plt.xticks(rotation=45)\n",
    "plt.grid()\n",
    "plt.show()"
   ]
  },
  {
   "cell_type": "markdown",
   "id": "0f72020d",
   "metadata": {},
   "source": [
    "En el gráfico anterior, podemos observar que no existe una tendencia clara en la evolución de las ventas. Sin embargo, es evidente que los datos correspondientes al mes de noviembre están incompletos. Este detalle es crucial, ya que incluir solo una fracción de los datos de noviembre podría sesgar el análisis, especialmente si más adelante se decide trabajar con una granularidad mensual.\n",
    "\n",
    "Por este motivo, sería recomendable limitar el conjunto de datos hasta el mes de octubre durante la etapa de preparación, para evitar que el modelo interprete erróneamente una caída en las ventas totales.\n",
    "\n",
    "A continuación, se presenta una versión actualizada del gráfico, resaltando en rojo el mes de noviembre para evidenciar que solo se cuenta con una fracción de los datos de este mes."
   ]
  },
  {
   "cell_type": "code",
   "execution_count": null,
   "id": "59bf1a30",
   "metadata": {},
   "outputs": [],
   "source": [
    "# Gráfico de línea para visualizar la evolución del valor total de transacciones\n",
    "plt.figure(figsize=(12, 6))\n",
    "plt.plot(data_by_date['Fecha de Compra'], data_by_date['Valor'], marker='o')\n",
    "plt.axvspan(pd.Timestamp('2024-11-01'), pd.Timestamp(f'2024-11-30'), color='red', alpha=0.3, label='Noviembre')\n",
    "plt.title('Evolución del Valor de Transacciones a lo Largo del Tiempo')\n",
    "plt.xlabel('Fecha de Compra')\n",
    "plt.ylabel('Valor Total de Transacciones')\n",
    "plt.xticks(rotation=45)\n",
    "plt.grid()\n",
    "plt.legend()\n",
    "plt.show()"
   ]
  },
  {
   "cell_type": "markdown",
   "id": "aec95e72",
   "metadata": {},
   "source": [
    "### Evolución de Ventas por Canal\n",
    "\n",
    "Dado que no se observó una tendencia clara en la evolución general de las ventas, analizaremos si diferenciarlas por canal de venta permite identificar patrones más definidos. Esto tiene sentido, ya que se espera que cada canal tenga un comportamiento distinto y características particulares.\n",
    "\n",
    "Para ello, agruparemos los datos tanto por fecha de compra como por canal de venta, calculando el valor total de las ventas para cada combinación."
   ]
  },
  {
   "cell_type": "code",
   "execution_count": null,
   "id": "f22b1db2",
   "metadata": {},
   "outputs": [],
   "source": [
    "# Agrupar datos por fecha para obtener el valor total de transacciones.\n",
    "data_by_date_channel = data_exploration.groupby(['Fecha de Compra', 'Canal de Venta']).agg({'Valor': 'sum'}).reset_index()\n",
    "data_by_date_channel.head()"
   ]
  },
  {
   "cell_type": "markdown",
   "id": "d34e8437",
   "metadata": {},
   "source": [
    "A continuación, se genera un gráfico de líneas similar al realizado previamente, pero en esta ocasión se diferencian las ventas por canal de venta utilizando la agrupación previamente calculada. Este gráfico nos permite visualizar cómo varía el valor total de las transacciones a lo largo del tiempo para cada canal de venta."
   ]
  },
  {
   "cell_type": "code",
   "execution_count": null,
   "id": "a9aee8a9",
   "metadata": {},
   "outputs": [],
   "source": [
    "# Crear un gráfico de línea con seaborn\n",
    "plt.figure(figsize=(12, 6))\n",
    "sns.lineplot(data=data_by_date_channel, x='Fecha de Compra', y='Valor', hue='Canal de Venta')\n",
    "\n",
    "plt.title('Evolución del Valor de Transacciones por Canal a lo Largo del Tiempo')\n",
    "plt.xlabel('Fecha de Compra')\n",
    "plt.ylabel('Valor Total de Transacciones')\n",
    "plt.xticks(rotation=45)\n",
    "plt.grid(True)\n",
    "plt.legend(title='Canal de Venta')\n",
    "plt.show()"
   ]
  },
  {
   "cell_type": "markdown",
   "id": "d5900864",
   "metadata": {},
   "source": [
    "## Preparación de los Datos\n",
    "\n",
    "Es crucial preparar los datos para garantizar su calidad y utilidad. En esta etapa, llevamos a cabo un proceso de limpieza y transformación para asegurar que la información sea consistente y esté alineada con los objetivos del proyecto. Esto incluye la eliminación de registros duplicados y valores nulos, la conversión de fechas al formato adecuado, y el filtrado de datos incompletos que podrían distorsionar los resultados. Además, reorganizamos las ventas para facilitar su análisis, creando nuevas variables clave que permitirán una exploración más profunda en las siguientes etapas. Estos pasos nos proporcionan un conjunto de datos limpio, estructurado y listo para el modelado.\n",
    "\n",
    "### Eliminación de registros duplicados\n",
    "\n",
    "El primer paso en la preparación de datos es identificar y eliminar registros duplicados. Los duplicados pueden surgir debido a errores en la recolección o procesamiento de los datos, y su presencia podría distorsionar los análisis al sobrerrepresentar ciertos valores. Este paso garantiza que cada fila del conjunto de datos represente una observación única."
   ]
  },
  {
   "cell_type": "code",
   "execution_count": null,
   "id": "9b5f9463",
   "metadata": {},
   "outputs": [],
   "source": [
    "# Eliminar registros duplicados en el conjunto de datos\n",
    "data = data.drop_duplicates()\n",
    "data.head()"
   ]
  },
  {
   "cell_type": "markdown",
   "id": "5e3f6a18",
   "metadata": {},
   "source": [
    "### Eliminación de registros con valores nulos\n",
    "\n",
    "A continuación, eliminamos las filas con valores nulos. Esto asegura que las métricas calculadas no se vean afectadas por datos incompletos. Es importante evaluar previamente si la eliminación de estas filas afecta significativamente el tamaño de la muestra."
   ]
  },
  {
   "cell_type": "code",
   "execution_count": null,
   "id": "6888ee6c",
   "metadata": {},
   "outputs": [],
   "source": [
    "# Eliminar filas con valores nulos en el conjunto de datos\n",
    "data = data.dropna()\n",
    "data.head()"
   ]
  },
  {
   "cell_type": "markdown",
   "id": "f96de792",
   "metadata": {},
   "source": [
    "### Conversión de Fechas al Formato Adecuado\n",
    "\n",
    "Para facilitar las operaciones temporales, convertimos la columna `Fecha de Compra` al formato de fecha reconocido por Pandas. Esto permite realizar cálculos y manipulaciones con mayor precisión, como agrupaciones por rangos de fechas o la creación de nuevas variables temporales. Durante este proceso, manejamos errores que podrían surgir debido a valores mal formateados."
   ]
  },
  {
   "cell_type": "code",
   "execution_count": null,
   "id": "9d6ad635",
   "metadata": {},
   "outputs": [],
   "source": [
    "data['Fecha de Compra'] = pd.to_datetime(data['Fecha de Compra'], errors='coerce')\n",
    "data.head()"
   ]
  },
  {
   "cell_type": "markdown",
   "id": "1d611973",
   "metadata": {},
   "source": [
    "### Filtrado de Datos de Noviembre\n",
    "\n",
    "Como se observó previamente, los datos correspondientes al mes de noviembre están incompletos. Para evitar sesgos en el análisis y asegurar la calidad de los resultados, filtramos el conjunto de datos para incluir únicamente las transacciones realizadas hasta octubre. Este paso es especialmente relevante si en el futuro se decide trabajar con granularidades mensuales."
   ]
  },
  {
   "cell_type": "code",
   "execution_count": null,
   "id": "3af17668",
   "metadata": {},
   "outputs": [],
   "source": [
    "data = data[data[\"Fecha de Compra\"]<\"2024-11-01\"]\n",
    "data.head()"
   ]
  },
  {
   "cell_type": "markdown",
   "id": "41df0161",
   "metadata": {},
   "source": [
    "### Agrupación de Ventas por Fecha y Canal\n",
    "\n",
    "Una vez limpios, los datos se agrupan por fecha de compra y canal de venta. Este proceso consolida las ventas realizadas en un mismo día y canal, calculando el valor total de las transacciones. Esta reorganización nos permite observar patrones específicos y comportamientos únicos para cada canal de venta."
   ]
  },
  {
   "cell_type": "code",
   "execution_count": null,
   "id": "2e554910",
   "metadata": {},
   "outputs": [],
   "source": [
    "data = data.groupby(['Fecha de Compra', 'Canal de Venta']).agg({'Valor': 'sum'}).reset_index()\n",
    "data.head()"
   ]
  },
  {
   "cell_type": "markdown",
   "id": "f82ccb95",
   "metadata": {},
   "source": [
    "### Creación de una Variable Temporal\n",
    "\n",
    "Finalmente, añadimos una nueva columna que representa el tiempo en días desde la primera fecha registrada en el conjunto de datos. Esta variable es esencial para modelar las ventas como una serie temporal, ya que transforma las fechas en un formato numérico que los modelos estadísticos y de aprendizaje automático pueden procesar fácilmente."
   ]
  },
  {
   "cell_type": "code",
   "execution_count": null,
   "id": "c54cc25f",
   "metadata": {},
   "outputs": [],
   "source": [
    "# Preparar los datos para la regresión lineal\n",
    "data['Tiempo'] = (data['Fecha de Compra'] - data['Fecha de Compra'].min()).dt.days\n",
    "data.head()"
   ]
  },
  {
   "cell_type": "markdown",
   "id": "b1cc3055",
   "metadata": {},
   "source": [
    "## Construcción del Modelo de Pronóstico de Ventas utilizando Regresión Lineal\n",
    "\n",
    "En esta sección, abordaremos la construcción de un modelo de regresión lineal para pronosticar las ventas. La regresión lineal es un modelo estadístico utilizado para identificar la relación entre una variable dependiente (en este caso, el valor de las ventas) y una o más variables independientes (como el tiempo). Este modelo busca ajustar una línea recta que minimice la suma de los errores al cuadrado entre las predicciones y los valores reales.\n",
    "\n",
    "El modelo sigue la fórmula general:\n",
    "\n",
    "$$\n",
    "y=\\beta_0+\\beta_1x+\\epsilon\n",
    "$$\n",
    "\n",
    "Donde:\n",
    "\n",
    "* $y$ es la variable dependiente (valor de las ventas).\n",
    "* $\\beta_0$ es el intercepto (el valor de $y$ cuando $x=0$).\n",
    "* $\\beta_1$ es la pendiente de la línea, que mide cómo cambia $y$ por cada unidad de cambio en $x$.\n",
    "* $x$ es la variable independiente (en este caso, el tiempo).\n",
    "* $\\epsilon$ es el término de error, que captura las desviaciones no explicadas por el modelo.\n",
    "\n",
    "El objetivo del modelo es encontrar los valores óptimos de $\\beta_0$ y $\\beta_1$ que minimicen la diferencia entre los valores observados y los valores predichos."
   ]
  },
  {
   "cell_type": "markdown",
   "id": "140bae12",
   "metadata": {},
   "source": [
    "### Proceso de Construcción del Modelo\n",
    "\n",
    "A continuación, se describen los pasos a seguir para construir el modelo de pronóstico de ventas utilizando regresión lineal.\n",
    "\n",
    "#### 1. Filtrado por Canal de Venta\n",
    "\n",
    "Como observamos en la etapa de entendimiento, cada canal puede tener un comportamiento diferente, por esta razón, comenzamos seleccionando los datos correspondientes a un canal específico. Esto permite crear un modelo personalizado para cada segmento, aumentando la precisión del pronóstico.\n",
    "\n",
    "#### 2. División de Datos en Entrenamiento y Prueba\n",
    "\n",
    "Para evaluar el desempeño del modelo, dividimos los datos en dos subconjuntos:\n",
    "\n",
    "* **Datos de entrenamiento:** Incluyen las ventas realizadas antes de julio de 2024. Estos datos se utilizan para ajustar el modelo.\n",
    "* **Datos de prueba:** Incluyen las ventas posteriores a julio de 2024. Este conjunto sirve para medir la capacidad del modelo de generalizar sus predicciones a datos nuevos.\n",
    "\n",
    "\n",
    "#### 3. Selección de Variables\n",
    "\n",
    "En este modelo, usamos como variable independiente el tiempo, que representa los días desde la primera fecha registrada. La variable dependiente es el monto total de las ventas.\n",
    "\n",
    "#### 4. Entrenamiento del Modelo\n",
    "\n",
    "Utilizamos el conjunto de datos de entrenamiento para ajustar un modelo de regresión lineal. Durante este paso, el modelo aprende los valores óptimos de los parámetros que mejor explican la relación entre el tiempo y el valor de las ventas.\n",
    "\n",
    "#### 5. Generación de Predicciones\n",
    "\n",
    "Con el modelo entrenado, generamos predicciones para ambos conjuntos de datos (entrenamiento y prueba). Esto nos permite evaluar qué tan bien se ajusta el modelo a los datos de entrenamiento y qué tan precisas son sus predicciones para datos no vistos anteriormente."
   ]
  },
  {
   "cell_type": "code",
   "execution_count": null,
   "id": "e4eb6ab3",
   "metadata": {},
   "outputs": [],
   "source": [
    "def train_test_linear_regression(data, channel):\n",
    "    \"\"\"\n",
    "    Realiza el entrenamiento y evaluación de un modelo de regresión lineal\n",
    "    basado en datos filtrados por un canal de venta específico.\n",
    "    \n",
    "    Args:\n",
    "        data (pd.DataFrame): DataFrame con los datos de entrada. Debe contener\n",
    "                             las columnas 'Canal de Venta', 'Fecha de Compra', \n",
    "                             'Tiempo' y 'Valor'.\n",
    "        channel (str): Canal de venta por el cual se filtrarán los datos.\n",
    "        \n",
    "    Returns:\n",
    "        tuple: Contiene los siguientes elementos:\n",
    "            - train (pd.DataFrame): Datos de entrenamiento con predicciones.\n",
    "            - test (pd.DataFrame): Datos de prueba con predicciones.\n",
    "            - model (LinearRegression): Modelo de regresión lineal entrenado.\n",
    "    \"\"\"\n",
    "    # Filtrar los datos por el canal de venta especificado\n",
    "    channel_data = data[data['Canal de Venta'] == channel]\n",
    "    \n",
    "    # Dividir los datos en conjuntos de entrenamiento y prueba según la fecha\n",
    "    train = channel_data[channel_data['Fecha de Compra'] < datetime(2024, 7, 1)].copy()\n",
    "    test = channel_data[channel_data['Fecha de Compra'] >= datetime(2024, 7, 1)].copy()\n",
    "    \n",
    "    # Separar las variables independientes (X) y dependientes (y) para entrenamiento y prueba\n",
    "    X_train = train[['Tiempo']]\n",
    "    y_train = train['Valor']\n",
    "    X_test = test[['Tiempo']]\n",
    "    y_test = test['Valor']\n",
    "    \n",
    "    # Crear y entrenar un modelo de regresión lineal\n",
    "    model = LinearRegression()\n",
    "    model.fit(X_train, y_train)\n",
    "    \n",
    "    # Generar predicciones para los datos de entrenamiento y prueba\n",
    "    train.loc[:, 'Predicción'] = model.predict(X_train)\n",
    "    test.loc[:, 'Predicción'] = model.predict(X_test)\n",
    "    \n",
    "    return channel, train, test, model"
   ]
  },
  {
   "cell_type": "markdown",
   "id": "e42cd1cf",
   "metadata": {},
   "source": [
    "### Visualización de las Predicciones por Canal de Venta\n",
    "\n",
    "#### Predicción para un Canal Específico\n",
    "\n",
    "Para evaluar el desempeño del modelo de regresión lineal en un canal específico, primero aplicamos la función de entrenamiento y prueba al canal \"Tienda Física\". Esto nos permite analizar cómo las ventas históricas se ajustan al modelo y cómo se comportan las predicciones en comparación con los datos reales."
   ]
  },
  {
   "cell_type": "code",
   "execution_count": null,
   "id": "6f6691da",
   "metadata": {},
   "outputs": [],
   "source": [
    "channel, train_tienda, test_tienda, model_tienda = train_test_linear_regression(data, \"Tienda Física\")"
   ]
  },
  {
   "cell_type": "markdown",
   "id": "ca50ada8",
   "metadata": {},
   "source": [
    "Después, generamos un gráfico para visualizar la evolución de las ventas y las predicciones. En el gráfico se diferencian las siguientes curvas:\n",
    "\n",
    "* **Ventas de entrenamiento:** Representan los datos históricos utilizados para ajustar el modelo.\n",
    "* **Ventas de prueba:** Muestran los datos no vistos que se utilizan para evaluar el modelo.\n",
    "* **Predicciones del modelo:** Se visualizan para los conjuntos de entrenamiento y prueba, permitiendo analizar qué tan bien el modelo se ajusta a los datos reales.\n",
    "\n",
    "Este gráfico nos proporciona una visión inicial de la capacidad del modelo para capturar la tendencia de las ventas y su comportamiento frente a datos no utilizados durante el entrenamiento."
   ]
  },
  {
   "cell_type": "code",
   "execution_count": null,
   "id": "9854d590",
   "metadata": {},
   "outputs": [],
   "source": [
    "plt.figure(figsize=(14, 7))\n",
    "plt.plot(train_tienda['Fecha de Compra'], train_tienda['Valor'], label='Ventas (Entrenamiento)', alpha=0.8)\n",
    "plt.plot(test_tienda['Fecha de Compra'], test_tienda['Valor'], label='Ventas (Prueba)', alpha=0.8)\n",
    "plt.plot(train_tienda['Fecha de Compra'], train_tienda['Predicción'], color='green', linestyle='--', linewidth=2, label='Predicción (Entrenamiento)')\n",
    "plt.plot(test_tienda['Fecha de Compra'], test_tienda['Predicción'], color='red', linestyle='--', linewidth=2, label='Predicción (Prueba)')\n",
    "plt.title(f'Evolución del Valor de Transacciones con Predicción ({channel})')\n",
    "plt.xlabel('Fecha de Compra')\n",
    "plt.ylabel('Valor Total de Transacciones')\n",
    "plt.xticks(rotation=45)\n",
    "plt.grid()\n",
    "plt.legend()\n",
    "plt.show()"
   ]
  },
  {
   "cell_type": "markdown",
   "id": "6c307405",
   "metadata": {},
   "source": [
    "#### Predicción para Todos los Canales\n",
    "\n",
    "A continuación, aplicamos el mismo enfoque a todos los canales de venta presentes en el conjunto de datos. Esto incluye filtrar los datos por cada canal, entrenar un modelo independiente y generar las predicciones correspondientes.\n",
    "\n",
    "Para visualizar los resultados de manera eficiente, creamos gráficos en un formato de subplots de 2x2, donde cada gráfico representa la evolución de las ventas y las predicciones para un canal. Cada subplot muestra:\n",
    "\n",
    "* **Las ventas reales de entrenamiento y prueba.**\n",
    "* **Las predicciones del modelo para ambos conjuntos de datos.**\n",
    "\n",
    "Además, formateamos los ejes de tiempo para resaltar los meses, facilitando la interpretación de las tendencias temporales en cada canal."
   ]
  },
  {
   "cell_type": "code",
   "execution_count": null,
   "id": "37ac5647",
   "metadata": {
    "scrolled": false
   },
   "outputs": [],
   "source": [
    "# Datos para los 4 canales\n",
    "channels = data[\"Canal de Venta\"].unique()\n",
    "data_train_test = [\n",
    "    train_test_linear_regression(data, channel) for channel in channels\n",
    "]\n",
    "\n",
    "# Crear subplots 2x2\n",
    "fig, axes = plt.subplots(2, 2, figsize=(16, 12))\n",
    "axes = axes.flatten()\n",
    "\n",
    "for i, (channel, (channel, train_data, test_data, model)) in enumerate(zip(channels, data_train_test)):\n",
    "    ax = axes[i]\n",
    "    # Graficar datos de entrenamiento, prueba y predicciones\n",
    "    ax.plot(train_data['Fecha de Compra'], train_data['Valor'], label='Ventas (Entrenamiento)', alpha=0.8)\n",
    "    ax.plot(test_data['Fecha de Compra'], test_data['Valor'], label='Ventas (Prueba)', alpha=0.8)\n",
    "    ax.plot(train_data['Fecha de Compra'], train_data['Predicción'], color='green', linestyle='--', linewidth=2, label='Predicción (Entrenamiento)')\n",
    "    ax.plot(test_data['Fecha de Compra'], test_data['Predicción'], color='red', linestyle='--', linewidth=2, label='Predicción (Prueba)')\n",
    "    \n",
    "    # Títulos y configuración\n",
    "    ax.set_title(f'Evolución de Ventas: {channel}')\n",
    "    ax.set_xlabel('Fecha de Compra')\n",
    "    ax.set_ylabel('Valor Total de Transacciones')\n",
    "    ax.grid()\n",
    "    \n",
    "    # Formatear eje X para mostrar solo el mes\n",
    "    ax.xaxis.set_major_formatter(mdates.DateFormatter('%b'))\n",
    "    ax.xaxis.set_major_locator(mdates.MonthLocator())\n",
    "    plt.setp(ax.xaxis.get_majorticklabels(), rotation=45)\n",
    "\n",
    "# Leyenda única\n",
    "handles, labels = axes[0].get_legend_handles_labels()\n",
    "fig.legend(handles, labels, loc='upper center', ncol=4, bbox_to_anchor=(0.5, 0.98))\n",
    "\n",
    "# Ajustar espacio entre subplots\n",
    "plt.tight_layout(rect=[0, 0, 1, 0.95])\n",
    "plt.show()"
   ]
  },
  {
   "cell_type": "markdown",
   "id": "6c504f2f",
   "metadata": {},
   "source": [
    "## Evaluación Cuantitativa de los Modelos de Pronóstico de Ventas\n",
    "\n",
    "Una vez entrenados los modelos y generadas las predicciones para cada canal de venta, es fundamental evaluar su desempeño de manera cuantitativa. En esta sección, utilizamos métricas estándar para medir la precisión y calidad de los pronósticos. Las métricas consideradas son:\n",
    "\n",
    "* **Root Mean Squared Error (RMSE)**: Es la raíz cuadrada del promedio de los errores al cuadrado, otorgando un mayor peso a los errores más grandes. Esta métrica es adecuada para identificar si hay grandes desviaciones en las predicciones.\n",
    "\n",
    "* **Mean Absolute Error (MAE)**: Representa el error promedio absoluto entre las predicciones y los valores reales. Es útil para comprender, en términos absolutos, cuánto se desvían las predicciones del modelo.\n",
    "\n",
    "* **Mean Absolute Percentage Error (MAPE)**: Calcula el porcentaje promedio de error relativo entre las predicciones y los valores reales, permitiendo comparar el desempeño del modelo entre diferentes canales de venta, independientemente de las magnitudes.\n",
    "\n",
    "A continuación, para cada canal de venta, calculamos las métricas mencionadas utilizando los valores reales y las predicciones en el conjunto de prueba. Los resultados se almacenan en un DataFrame, lo que facilita su visualización y análisis comparativo entre los canales."
   ]
  },
  {
   "cell_type": "code",
   "execution_count": null,
   "id": "17d2076c",
   "metadata": {},
   "outputs": [],
   "source": [
    "# Diccionario para almacenar métricas por canal\n",
    "metrics = {\n",
    "    \"Canal\": [],\n",
    "    \"MAE\": [],\n",
    "    \"RMSE\": [],\n",
    "    \"MAPE\": []\n",
    "}\n",
    "\n",
    "# Calcular métricas para cada canal\n",
    "for channel, (channel, train_data, test_data, model) in zip(channels, data_train_test):\n",
    "    mae = mean_absolute_error(test_data['Valor'], test_data['Predicción'])\n",
    "    rmse = np.sqrt(mean_squared_error(test_data['Valor'], test_data['Predicción']))\n",
    "    mape = np.mean(np.abs((test_data['Valor'] - test_data['Predicción']) / test_data['Valor'])) * 100\n",
    "    \n",
    "    metrics[\"Canal\"].append(channel)\n",
    "    metrics[\"MAE\"].append(mae)\n",
    "    metrics[\"RMSE\"].append(rmse)\n",
    "    metrics[\"MAPE\"].append(mape)\n",
    "\n",
    "\n",
    "# Convertir métricas a DataFrame para facilitar la visualización\n",
    "metrics_df = pd.DataFrame(metrics)\n",
    "metrics_df"
   ]
  },
  {
   "cell_type": "markdown",
   "id": "ab28e6b0",
   "metadata": {},
   "source": [
    "### Visualización de las Métricas\n",
    "\n",
    "Para interpretar mejor los resultados, a continuación graficamos las métricas MAE y MAPE para cada canal de venta en un formato de barras:\n",
    "\n",
    "* **MAE por canal:** Este gráfico muestra el error absoluto promedio para cada canal, destacando los canales donde el modelo tiene mayor precisión.\n",
    "\n",
    "* **MAPE por canal:** Este gráfico permite evaluar el error relativo porcentual, facilitando comparaciones entre canales con diferentes volúmenes de ventas."
   ]
  },
  {
   "cell_type": "code",
   "execution_count": null,
   "id": "c38c6b6b",
   "metadata": {},
   "outputs": [],
   "source": [
    "# Creando un único subplot con MAE y MAPE\n",
    "fig, ax = plt.subplots(1, 2, figsize=(14, 6))\n",
    "\n",
    "# Gráfica de MAE\n",
    "ax[0].bar(metrics_df[\"Canal\"], metrics_df[\"MAE\"], color='skyblue', alpha=0.7)\n",
    "ax[0].set_title(\"MAE por Canal\")\n",
    "ax[0].set_xlabel(\"Canal\")\n",
    "ax[0].set_ylabel(\"MAE\")\n",
    "ax[0].tick_params(axis='x', rotation=45)\n",
    "ax[0].grid(axis=\"y\", linestyle=\"--\", alpha=0.7)\n",
    "\n",
    "# Gráfica de MAPE\n",
    "ax[1].bar(metrics_df[\"Canal\"], metrics_df[\"MAPE\"], color='orange', alpha=0.7)\n",
    "ax[1].set_title(\"MAPE por Canal\")\n",
    "ax[1].set_xlabel(\"Canal\")\n",
    "ax[1].set_ylabel(\"MAPE\")\n",
    "ax[1].tick_params(axis='x', rotation=45)\n",
    "ax[1].grid(axis=\"y\", linestyle=\"--\", alpha=0.7)\n",
    "\n",
    "# Ajustando el diseño\n",
    "plt.tight_layout()\n",
    "plt.show()"
   ]
  },
  {
   "cell_type": "markdown",
   "id": "5c30a717",
   "metadata": {},
   "source": [
    "# Análisis Cualitativo de los Resultados\n",
    "\n",
    "### Canal: Distribuidor\n",
    "\n",
    "El modelo presenta un MAE de 28,365 y un MAPE del 23.14\\%, lo que significa que, en promedio, las predicciones diarias tienen un error absoluto de $28,365, representando aproximadamente un 23\\% de los valores reales. Esto sugiere que las ventas en este canal son altamente variables y difíciles de predecir. Este comportamiento es típico de canales donde las transacciones tienden a ser menos frecuentes pero de mayor volumen, como ocurre con los distribuidores.\n",
    "\n",
    "### Canal: En Línea\n",
    "\n",
    "Para el canal en línea, el modelo tiene un MAE de 30,582 y un MAPE de 13.69\\%. Aunque el error absoluto es el más alto entre todos los canales, el error relativo es moderado, lo que indica que las predicciones son razonablemente precisas en proporción al alto volumen general de ventas en este canal. Esto sugiere que las ventas en línea son algo más regulares, aunque las fluctuaciones significativas aún representan un desafío para el modelo.\n",
    "\n",
    "### Canal: Telefónica\n",
    "En este canal, el modelo logra un MAE de 23,107 y un MAPE de 16.38\\%. Estos valores reflejan un desempeño intermedio, con errores absolutos y relativos moderados. Esto sugiere que las ventas telefónicas son más predecibles que las del canal Distribuidor, pero menos regulares que las de Tienda Física. La variabilidad en este canal podría estar relacionada con la dependencia de la interacción humana para concretar ventas.\n",
    "\n",
    "### Canal: Tienda Física\n",
    "El canal Tienda Física tiene el mejor desempeño con un MAE de 24,365 y un MAPE de 9.14\\%. Esto indica que las predicciones tienen un error absoluto promedio aceptable y un error relativo significativamente bajo. Este resultado refleja la consistencia y regularidad en las ventas de este canal, donde los patrones parecen ser más estables y, por lo tanto, más fáciles de modelar."
   ]
  }
 ],
 "metadata": {
  "kernelspec": {
   "display_name": "Python 3 (ipykernel)",
   "language": "python",
   "name": "python3"
  },
  "language_info": {
   "codemirror_mode": {
    "name": "ipython",
    "version": 3
   },
   "file_extension": ".py",
   "mimetype": "text/x-python",
   "name": "python",
   "nbconvert_exporter": "python",
   "pygments_lexer": "ipython3",
   "version": "3.11.5"
  }
 },
 "nbformat": 4,
 "nbformat_minor": 5
}
