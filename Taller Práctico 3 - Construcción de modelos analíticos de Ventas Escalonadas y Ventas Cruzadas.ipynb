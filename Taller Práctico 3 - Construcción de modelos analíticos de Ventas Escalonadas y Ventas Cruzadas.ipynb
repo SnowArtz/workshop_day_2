{
 "cells": [
  {
   "cell_type": "markdown",
   "id": "b4ab7b77",
   "metadata": {},
   "source": [
    "# Taller Práctico 3: Construcción de Modelos Analíticos de Ventas Escalonadas y Venta Cruzada\n",
    "\n",
    "**Objetivos del Taller:**\n",
    "\n",
    "* Comprender la importancia de las estrategias de venta escalonada y venta cruzada en el aumento de ingresos y fidelización de clientes.\n",
    "\n",
    "* Aprender a identificar patrones en los datos que indiquen oportunidades para implementar estas estrategias.\n",
    "\n",
    "* Desarrollar modelos analíticos que permitan optimizar y personalizar las recomendaciones de productos."
   ]
  },
  {
   "cell_type": "markdown",
   "id": "1cdbc60f",
   "metadata": {},
   "source": [
    "# Construcción modelos analíticos de Ventas Escalonadas y Ventas Cruzadas\n",
    "\n",
    "## Instalar las bibliotecas necesarias\n",
    "\n",
    "Antes de comenzar con el análisis, debemos asegurarnos de tener todas las bibliotecas necesarias instaladas y cargadas en nuestro entorno de trabajo. Estas bibliotecas proporcionan herramientas fundamentales para manipular datos, realizar análisis y construir modelos que nos permitan explorar y optimizar estrategias como la venta cruzada y venta escalonada. A continuación, se mencionan las bibliotecas que utilizaremos en este notebook:\n",
    "\n",
    "* **numpy:** Para realizar operaciones matemáticas avanzadas y manipulación eficiente de arreglos numéricos.\n",
    "* **pandas:** Herramienta clave para el análisis y manipulación de datos en formato tabular.\n",
    "* **matplotlib:** Para la creación de visualizaciones personalizadas y claras.\n",
    "* **seaborn:** Biblioteca para generar gráficos estadísticos más atractivos y detallados.\n",
    "* **sklearn:** Conjunto de herramientas para machine learning, utilizadas en tareas de clasificación, regresión y más.\n",
    "* **mlxtend:** Proporciona herramientas avanzadas para análisis de patrones frecuentes y generación de reglas de asociación, muy útiles en el análisis de estrategias de ventas."
   ]
  },
  {
   "cell_type": "code",
   "execution_count": null,
   "id": "a08eb42c",
   "metadata": {},
   "outputs": [],
   "source": [
    "!pip install mlxtend"
   ]
  },
  {
   "cell_type": "markdown",
   "id": "938208fe",
   "metadata": {},
   "source": [
    "## Cargar las bibliotecas previamente instaladas\n",
    "\n",
    "Ahora que tenemos instaladas todas las bibliotecas necesarias, procedemos a cargarlas en nuestro entorno de trabajo."
   ]
  },
  {
   "cell_type": "code",
   "execution_count": null,
   "id": "a9bc4af2",
   "metadata": {},
   "outputs": [],
   "source": [
    "import numpy as np\n",
    "import pandas as pd\n",
    "import seaborn as sns\n",
    "import matplotlib.pyplot as plt\n",
    "\n",
    "from sklearn.model_selection import train_test_split\n",
    "from sklearn.ensemble import RandomForestClassifier\n",
    "from sklearn.preprocessing import LabelEncoder, StandardScaler\n",
    "from sklearn.metrics import classification_report, confusion_matrix, ConfusionMatrixDisplay\n",
    "from mlxtend.frequent_patterns import apriori, association_rules"
   ]
  },
  {
   "cell_type": "markdown",
   "id": "5d509a66",
   "metadata": {},
   "source": [
    "## Cargar el conjunto de datos\n",
    "\n",
    "Con las bibliotecas listas, el siguiente paso es cargar nuestro conjunto de datos que utilizaremos para la construcción de los modelos analíticos de ventas cruzadas y escalonadas."
   ]
  },
  {
   "cell_type": "code",
   "execution_count": null,
   "id": "b1392fd2",
   "metadata": {},
   "outputs": [],
   "source": [
    "# Carga y descripción de los datos\n",
    "data = pd.read_csv(\"./data/customer_transactions_dataset.csv\")\n",
    "data"
   ]
  },
  {
   "cell_type": "markdown",
   "id": "5083ede8",
   "metadata": {},
   "source": [
    "## Entendimiento de los Datos\n",
    "\n",
    "Es fundamental entender la estructura y las características del conjunto de datos. A continuación, exploraremos el conjunto de datos utilizando a través de las visualizaciones de las principales variables."
   ]
  },
  {
   "cell_type": "code",
   "execution_count": null,
   "id": "eeb326d5",
   "metadata": {},
   "outputs": [],
   "source": [
    "# Gasto promedio por edad\n",
    "avg_spending_per_age = data.groupby('Segmento de Mercado')['Valor'].mean()\n",
    "avg_spending_per_age.plot(kind='line', figsize=(8, 5), marker='o', color='orange')\n",
    "plt.title('Gasto Promedio por Edad')\n",
    "plt.xlabel('Edad')\n",
    "plt.ylabel('Gasto Promedio')\n",
    "plt.tight_layout()\n",
    "plt.show()"
   ]
  },
  {
   "cell_type": "code",
   "execution_count": null,
   "id": "26cab5ba",
   "metadata": {},
   "outputs": [],
   "source": [
    "# Asegurarse de que la columna 'Fecha de Compra' sea de tipo datetime\n",
    "data['Fecha de Compra'] = pd.to_datetime(data['Fecha de Compra'])\n",
    "\n",
    "# Frecuencia de compra (días entre compras) por cliente\n",
    "freq_purchase = data.groupby('ID Cliente')['Fecha de Compra'].apply(\n",
    "    lambda x: x.sort_values().diff().mean().days\n",
    ")\n",
    "\n",
    "freq_purchase.hist(bins=20, figsize=(8, 5))\n",
    "plt.title('Frecuencia de Compra (Promedio de Días entre Compras)')\n",
    "plt.xlabel('Días')\n",
    "plt.ylabel('Cantidad de Clientes')\n",
    "plt.tight_layout()\n",
    "plt.show()"
   ]
  },
  {
   "cell_type": "markdown",
   "id": "64b7022a",
   "metadata": {},
   "source": [
    "## Preparación de los Datos\n",
    "\n",
    "Es esencial preparar el conjunto de datos. Esto implica limpiar y transformar los datos para que sean coherentes y adecuados para los algoritmos de machine learning. A continuación, realizamos la eliminación de duplicados y el manejo de valores nulos.\n",
    "\n",
    "### Eliminación de registros duplicados\n",
    "\n",
    "El primer paso que haremos es eliminar cualquier duplicado en el conjunto de datos, en este contexto quiere decir, eliminar aquellas transacciones que se registraron más de una vez por error. Los duplicados pueden afectar la precisión del modelo y distorsionar las métricas calculadas, como las frecuencias y promedios."
   ]
  },
  {
   "cell_type": "code",
   "execution_count": null,
   "id": "a73ebabf",
   "metadata": {},
   "outputs": [],
   "source": [
    "# Eliminar registros duplicados en el conjunto de datos\n",
    "data = data.drop_duplicates()\n",
    "data.head()"
   ]
  },
  {
   "cell_type": "markdown",
   "id": "c91dbd5c",
   "metadata": {},
   "source": [
    "### Eliminación de registros con valores nulos\n",
    "\n",
    "A continuación, eliminamos las filas con valores nulos. Esto asegura que las métricas calculadas no se vean afectadas por datos incompletos. Es importante evaluar previamente si la eliminación de estas filas afecta significativamente el tamaño de la muestra."
   ]
  },
  {
   "cell_type": "code",
   "execution_count": null,
   "id": "11d5b192",
   "metadata": {},
   "outputs": [],
   "source": [
    "# Eliminar filas con valores nulos en el conjunto de datos\n",
    "data = data.dropna()\n",
    "data.head()"
   ]
  },
  {
   "cell_type": "markdown",
   "id": "7e4de256",
   "metadata": {},
   "source": [
    "# Introducción a la Venta Cruzada (Cross-Selling)\n",
    "\n",
    "La venta cruzada es una estrategia comercial que busca maximizar el valor de cada transacción ofreciendo productos o servicios complementarios al cliente durante el proceso de compra. Esta técnica, utilizada en una amplia variedad de industrias, permite a las empresas satisfacer múltiples necesidades del cliente, aumentando así su nivel de satisfacción y los ingresos totales.\n",
    "\n",
    "A continuación, se detallan algunos beneficios clave de la venta cruzada:\n",
    "\n",
    "* **Incremento del Valor del Cliente:** Al ofrecer productos relacionados, se maximiza el valor promedio de cada cliente durante su ciclo de vida, lo que contribuye al crecimiento sostenible del negocio.\n",
    "\n",
    "* **Fortalecimiento de la Relación con el Cliente:** Al identificar y atender necesidades adicionales, se crea una percepción de atención personalizada, fomentando la fidelidad y satisfacción del cliente.\n",
    "\n",
    "* **Optimización del Portafolio de Productos:** La venta cruzada permite dar visibilidad a productos complementarios que podrían pasar desapercibidos, aumentando su rotación y promoviendo un uso más eficiente del inventario.\n",
    "\n",
    "* **Aumento del Ticket Promedio:** Con una estrategia bien ejecutada, las empresas logran incrementar el monto promedio de cada transacción sin necesidad de atraer nuevos clientes.\n",
    "\n",
    "La venta cruzada no solo mejora los resultados financieros de la empresa, sino que también refuerza su capacidad para ofrecer soluciones integrales a sus clientes. Cuando se implementa correctamente, esta estrategia crea una experiencia de compra más satisfactoria y completa."
   ]
  },
  {
   "cell_type": "markdown",
   "id": "2fd21793",
   "metadata": {},
   "source": [
    "## Construcción de la Matriz de Cesta\n",
    "\n",
    "Para implementar estrategias de venta cruzada, es fundamental entender qué productos suelen comprarse juntos. Esto se logra analizando el comportamiento de compra de los clientes mediante una **matriz de cesta**. Esta matriz organiza los datos de tal manera que cada fila representa a un cliente y cada columna corresponde a un producto. Los valores en la matriz reflejan la cantidad de unidades compradas de cada producto por cliente.\n",
    "\n",
    "#### Proceso para construir la matriz de cesta:\n",
    "1. **Agrupar los datos:** Los datos se agrupan por cliente y producto, lo que permite consolidar la información sobre la cantidad de productos adquiridos por cliente.\n",
    "2. **Pivotear los datos:** Se utiliza una estructura de tabla pivotante para transformar las filas en columnas, donde cada columna es un producto.\n",
    "3. **Rellenar valores nulos:** Los valores faltantes (que representan productos no comprados) se rellenan con ceros para facilitar el análisis.\n",
    "\n",
    "A continuación, generamos la matriz de cesta a partir de los datos agrupados y estructurados."
   ]
  },
  {
   "cell_type": "code",
   "execution_count": null,
   "id": "c54b6448",
   "metadata": {},
   "outputs": [],
   "source": [
    "# Generar la matriz de cesta (basket matrix)\n",
    "basket = data.groupby(['ID Cliente', 'Nombre del Producto'])['Cantidad'].sum().unstack().fillna(0)\n",
    "basket"
   ]
  },
  {
   "cell_type": "markdown",
   "id": "822c9d06",
   "metadata": {},
   "source": [
    "Una vez creada la matriz de cesta, es necesario convertir los valores numéricos en valores booleanos. Esto se debe a que el análisis de patrones frecuentes y reglas de asociación, típicos en estrategias de venta cruzada, requiere identificar únicamente si un producto fue comprado o no, sin considerar la cantidad.\n",
    "\n",
    "#### Conversión a valores booleanos:\n",
    "- Los valores mayores a cero se convierten en `True`, indicando que el cliente compró ese producto.\n",
    "- Los valores iguales a cero permanecen como `False`, señal"
   ]
  },
  {
   "cell_type": "code",
   "execution_count": null,
   "id": "01694118",
   "metadata": {},
   "outputs": [],
   "source": [
    "basket = basket.applymap(lambda x: True if x > 0 else False)\n",
    "basket"
   ]
  },
  {
   "cell_type": "markdown",
   "id": "8ade5734",
   "metadata": {},
   "source": [
    "## Generación de Reglas de Asociación (APRIORI)\n",
    "\n",
    "Con la matriz de cesta preparada, el siguiente paso es identificar patrones frecuentes de compra y generar reglas de asociación. Este análisis es crucial para implementar estrategias efectivas de venta cruzada, ya que permite descubrir qué productos se compran juntos con mayor frecuencia y qué relaciones existen entre ellos.\n",
    "\n",
    "#### Proceso para generar las reglas:\n",
    "\n",
    "1. **Aplicar el algoritmo Apriori:** \n",
    "\n",
    "   - Identifica conjuntos de productos frecuentes basándose en un umbral de soporte mínimo (`min_support`).\n",
    "   \n",
    "   - Esto significa que solo se consideran combinaciones de productos que aparecen en un porcentaje significativo de las transacciones.\n",
    "\n",
    "2. **Generar reglas de asociación:**\n",
    "\n",
    "   - Utilizamos métricas como `lift`, `confidence` y `support` para evaluar la fuerza y relevancia de las reglas.\n",
    "   \n",
    "   - Estas métricas ayudan a priorizar las combinaciones de productos más útiles para la venta cruzada.\n",
    "\n",
    "\n",
    "3. **Seleccionar las reglas más relevantes:** \n",
    "\n",
    "   - Filtramos las reglas con mayor lift y confidence para identificar aquellas que son más impactantes y confiables en el contexto del negocio.\n",
    "\n",
    "A continuación, mostramos las reglas de asociación más relevantes, incluyendo los productos involucrados (antecedentes y consecuentes) y las métricas clave."
   ]
  },
  {
   "cell_type": "code",
   "execution_count": null,
   "id": "d8243410",
   "metadata": {},
   "outputs": [],
   "source": [
    "# Aplicar el algoritmo Apriori\n",
    "frequent_items = apriori(basket, min_support=0.01, use_colnames=True)\n",
    "\n",
    "# Generar reglas de asociación\n",
    "rules = association_rules(frequent_items, metric=\"lift\", min_threshold=2.0, num_itemsets=len(frequent_items))\n",
    "\n",
    "# Mostrar las reglas más relevantes\n",
    "top_rules = rules.head(15)\n",
    "\n",
    "# Mostrar reglas seleccionadas\n",
    "top_rules[['antecedents', 'consequents', 'lift', 'confidence', 'support']]"
   ]
  },
  {
   "cell_type": "markdown",
   "id": "d1588c3d",
   "metadata": {},
   "source": [
    "* **Support (Soporte)**: Es la proporción de transacciones que contienen un conjunto de ítems respecto al total. Nos ayuda a identificar qué combinaciones de productos son frecuentes en el total de ventas, mostrando patrones relevantes.\n",
    "\n",
    "* **Confidence (Confianza)**: Es la probabilidad de que, dado que un cliente compra el conjunto X, también compre el conjunto Y. Ayuda a entender qué productos suelen venderse juntos, clave para diseñar promociones efectivas.\n",
    "\n",
    "* **Lift:** Mide qué tan dependiente es la relación entre X e Y comparada con una relación aleatoria. Un lift > 1 indica que la compra de X incrementa la probabilidad de comprar Y, lo cual es crucial para detectar oportunidades en ventas cruzadas o escalonadas."
   ]
  },
  {
   "cell_type": "markdown",
   "id": "2f4248c5",
   "metadata": {},
   "source": [
    "### Visualización de las Reglas con un Mapa de Calor\n",
    "\n",
    "Para interpretar mejor las reglas de asociación y facilitar la identificación de relaciones significativas entre productos, creamos un **mapa de calor** basado en los valores de `lift`. Esta visualización permite observar de manera clara la fortaleza de las relaciones entre los productos (antecedentes y consecuentes) generadas por el algoritmo Apriori."
   ]
  },
  {
   "cell_type": "code",
   "execution_count": null,
   "id": "51293bc9",
   "metadata": {},
   "outputs": [],
   "source": [
    "# Crear una matriz para el mapa de calor\n",
    "top_rules_pivot = top_rules.pivot(index='antecedents', columns='consequents', values='lift').fillna(0)\n",
    "\n",
    "# Mapa de calor\n",
    "plt.figure(figsize=(12, 8))\n",
    "sns.heatmap(top_rules_pivot, annot=True, fmt=\".2f\", cmap=\"YlGnBu\", cbar_kws={'label': 'Lift'})\n",
    "plt.title('Mapa de Calor: Lift de las Reglas Principales')\n",
    "plt.xlabel('Consequents')\n",
    "plt.ylabel('Antecedents')\n",
    "plt.show()"
   ]
  },
  {
   "cell_type": "markdown",
   "id": "38356002",
   "metadata": {},
   "source": [
    "### Análisis del Lift Promedio por Antecedentes\n",
    "\n",
    "Para profundizar aún más en las relaciones descubiertas, calculamos el **lift promedio** para cada conjunto de productos antecedentes. Esto nos permite identificar cuáles son los productos que, al ser comprados, tienen mayor capacidad de influir en la compra de otros productos."
   ]
  },
  {
   "cell_type": "code",
   "execution_count": null,
   "id": "b01c9ad5",
   "metadata": {},
   "outputs": [],
   "source": [
    "# Agrupar por 'antecedents' y calcular el lift promedio\n",
    "average_lift = top_rules.groupby('antecedents')['lift'].mean().reset_index()\n",
    "\n",
    "# Convertir 'antecedents' de frozenset a string para facilitar la visualización\n",
    "average_lift['antecedents'] = average_lift['antecedents'].apply(lambda x: ', '.join(list(x)))\n",
    "\n",
    "# Ordenar los antecedentes por lift promedio para una mejor visualización\n",
    "average_lift = average_lift.sort_values(by='lift', ascending=False)\n",
    "\n",
    "# Graficar las reglas principales por lift promedio\n",
    "plt.figure(figsize=(10, 6))\n",
    "plt.bar(average_lift['antecedents'], average_lift['lift'], color='skyblue')\n",
    "plt.title('Lift Promedio de las Reglas Principales por Antecedents')\n",
    "plt.xlabel('Antecedents')\n",
    "plt.ylabel('Lift Promedio')\n",
    "plt.xticks(rotation=90)\n",
    "plt.grid(axis='y', linestyle='--')\n",
    "plt.show()"
   ]
  },
  {
   "cell_type": "markdown",
   "id": "015f3314",
   "metadata": {},
   "source": [
    "# Introducción a la Venta Escalonada (Up-Selling)\n",
    "\n",
    "La venta escalonada es una estrategia comercial que busca maximizar el valor de cada transacción persuadiendo al cliente para que adquiera una versión más avanzada, completa o costosa del producto o servicio que ya está considerando. A diferencia de la venta cruzada, la venta escalonada se enfoca en mejorar la calidad o las características de la compra inicial, aumentando el ticket promedio y fortaleciendo la percepción de valor del cliente.\n",
    "\n",
    "A continuación, se detallan algunos beneficios clave de la venta escalonada:\n",
    "\n",
    "* **Aumento del Ticket Promedio:** Al incentivar la compra de versiones premium o productos con características adicionales, se logra incrementar el monto promedio por transacción de manera significativa.\n",
    "\n",
    "* **Fortalecimiento de la Percepción de Valor:** La venta escalonada ayuda a los clientes a visualizar los beneficios adicionales de una opción más avanzada, lo que refuerza su decisión de inversión y eleva la satisfacción del cliente.\n",
    "\n",
    "* **Optimización de la Experiencia del Cliente:** Al ofrecer soluciones más completas, se atienden mejor las necesidades y expectativas del cliente, creando una experiencia de compra superior.\n",
    "\n",
    "* **Fidelización a través de Beneficios Exclusivos:** La oferta de productos escalonados, como servicios VIP o características adicionales, genera una percepción de exclusividad que fortalece la relación con el cliente.\n",
    "\n",
    "La venta escalonada no solo impacta positivamente en los ingresos, sino que también refuerza la relación con el cliente al presentarle opciones mejoradas que se alinean con sus necesidades y aspiraciones. Implementada correctamente, esta estrategia permite a las empresas posicionar su oferta premium como la elección lógica para maximizar el valor percibido."
   ]
  },
  {
   "cell_type": "markdown",
   "id": "3c6bc141",
   "metadata": {},
   "source": [
    "## Construcción de un Modelo Predictivo para Venta Escalonada\n",
    "\n",
    "En el contexto de la venta escalonada, la identificación de clientes con mayor probabilidad de aceptar una oferta de un producto o servicio de mayor valor es esencial para maximizar el éxito de esta estrategia. Para lograrlo, estamos desarrollando un modelo predictivo basado en aprendizaje supervisado que nos permita anticipar estos comportamientos.\n",
    "\n",
    "#### Proceso para la construcción del modelo:\n",
    "\n",
    "1. **Preparación de los datos:**\n",
    "   - **Codificación de variables categóricas:** Convertimos variables como el canal de venta o segmento de mercado en representaciones numéricas mediante técnicas como `One-Hot Encoding`.\n",
    "   - **Definición de la variable objetivo:** Creamos una etiqueta binaria (`y`) que indica si una transacción tiene un valor alto (mayor al percentil 50 o 75, según el criterio definido). Esto nos ayuda a identificar patrones relacionados con compras de mayor valor.\n",
    "\n",
    "2. **División de los datos:**\n",
    "   - Separar el conjunto de datos en entrenamiento y prueba asegura una evaluación objetiva del modelo. Utilizamos un 70% de los datos para el entrenamiento y un 30% para las pruebas.\n",
    "\n",
    "3. **Construcción del modelo:**\n",
    "   - Seleccionamos un modelo de clasificación supervisado, como el **Random Forest**, que es robusto, eficiente y capaz de manejar relaciones no lineales entre las características.\n",
    "   - Entrenamos el modelo con los datos de entrenamiento y lo utilizamos para predecir la probabilidad de que un cliente acepte una oferta escalonada."
   ]
  },
  {
   "cell_type": "code",
   "execution_count": null,
   "id": "4e562b5e",
   "metadata": {},
   "outputs": [],
   "source": [
    "# Codificación de variables categóricas\n",
    "data_encoded = pd.get_dummies(data, columns=['Canal de Venta'])"
   ]
  },
  {
   "cell_type": "code",
   "execution_count": null,
   "id": "3a715e14",
   "metadata": {},
   "outputs": [],
   "source": [
    "# Dividir datos en entrenamiento y prueba\n",
    "X = data_encoded.drop(['Valor', 'Nombre del Cliente', 'ID Cliente', 'ID Producto', 'Fecha de Compra', 'Nombre del Producto'], axis=1)\n",
    "y = data_encoded['Valor'] > data_encoded['Valor'].median()*1.5  # Etiqueta binaria: alto valor de transacción\n",
    "X_train, X_test, y_train, y_test = train_test_split(X, y, test_size=0.3, random_state=42)"
   ]
  },
  {
   "cell_type": "code",
   "execution_count": null,
   "id": "8aa2c771",
   "metadata": {},
   "outputs": [],
   "source": [
    "# Modelo de clasificación\n",
    "model = RandomForestClassifier(random_state=42)\n",
    "model.fit(X_train, y_train)\n",
    "y_pred = model.predict(X_test)"
   ]
  },
  {
   "cell_type": "markdown",
   "id": "d2b75c32",
   "metadata": {},
   "source": [
    "### Evaluación del Modelo\n",
    "\n",
    "Una vez entrenado el modelo de clasificación, evaluamos su desempeño para determinar qué tan bien predice la probabilidad de que un cliente acepte una oferta escalonada. Para ello, utilizamos métricas clave de clasificación que permiten analizar la precisión y efectividad del modelo.\n",
    "\n",
    "#### Métricas principales:\n",
    "- **Precision:** Indica qué porcentaje de las predicciones positivas son correctas. Es crucial para minimizar ofertas innecesarias a clientes que no aceptarían una opción escalonada.\n",
    "- **Recall (Sensibilidad):** Mide la capacidad del modelo para identificar correctamente a los clientes que realmente aceptarían la oferta escalonada.\n",
    "- **F1-Score:** Proporciona un balance entre precision y recall, siendo especialmente útil en casos con distribución desigual de clases.\n",
    "- **Soporte:** Muestra la cantidad de observaciones verdaderas en cada clase, lo que da contexto al resto de las métricas."
   ]
  },
  {
   "cell_type": "code",
   "execution_count": null,
   "id": "ba5bd30f",
   "metadata": {},
   "outputs": [],
   "source": [
    "print(classification_report(y_test, y_pred))"
   ]
  },
  {
   "cell_type": "markdown",
   "id": "f9dc9335",
   "metadata": {},
   "source": [
    "### Visualización de la Matriz de Confusión\n",
    "\n",
    "Para complementar la evaluación del modelo, utilizamos una **matriz de confusión**, que ofrece una representación visual de los resultados de las predicciones del modelo. Esto permite identificar patrones de errores y analizar cómo el modelo clasifica las diferentes clases."
   ]
  },
  {
   "cell_type": "code",
   "execution_count": null,
   "id": "c844309b",
   "metadata": {},
   "outputs": [],
   "source": [
    "# Calcular la matriz de confusión\n",
    "cm = confusion_matrix(y_test, y_pred)\n",
    "\n",
    "# Visualizar la matriz de confusión\n",
    "disp = ConfusionMatrixDisplay(confusion_matrix=cm, display_labels=[\"No Up-Sell\", \"Up-Sell\"])\n",
    "disp.plot(cmap=\"Blues\")\n",
    "plt.title(\"Matriz de Confusión\")\n",
    "plt.show()"
   ]
  },
  {
   "cell_type": "markdown",
   "id": "244b4dbb",
   "metadata": {},
   "source": [
    "### Importancia de las Variables en el Modelo\n",
    "\n",
    "Para entender qué características tienen mayor impacto en las predicciones del modelo, analizamos la **importancia de las variables**. Este análisis ayuda a identificar qué factores contribuyen más a la probabilidad de que un cliente acepte una oferta escalonada, proporcionando información valiosa para ajustar estrategias comerciales y focalizar esfuerzos.\n",
    "\n",
    "#### Pasos realizados:\n",
    "1. **Obtener la importancia de las variables:**\n",
    "\n",
    "   - Utilizamos el atributo `feature_importances_` del modelo Random Forest para calcular la contribución relativa de cada característica al desempeño del modelo.\n",
    "\n",
    "2. **Visualizar la importancia:**\n",
    "\n",
    "   - Creamos un gráfico de barras horizontales que muestra la importancia de cada variable, permitiendo identificar rápidamente las características más relevantes."
   ]
  },
  {
   "cell_type": "code",
   "execution_count": null,
   "id": "992fac93",
   "metadata": {},
   "outputs": [],
   "source": [
    "importances = model.feature_importances_\n",
    "features = X_train.columns\n",
    "\n",
    "# Graficar importancias de las variables\n",
    "plt.figure(figsize=(10, 6))\n",
    "plt.barh(features, importances, color=\"skyblue\")\n",
    "plt.title(\"Importancia de las Variables\")\n",
    "plt.xlabel(\"Importancia\")\n",
    "plt.ylabel(\"Variable\")\n",
    "plt.grid(axis=\"x\", linestyle=\"--\")\n",
    "plt.show()"
   ]
  }
 ],
 "metadata": {
  "kernelspec": {
   "display_name": "Python 3 (ipykernel)",
   "language": "python",
   "name": "python3"
  },
  "language_info": {
   "codemirror_mode": {
    "name": "ipython",
    "version": 3
   },
   "file_extension": ".py",
   "mimetype": "text/x-python",
   "name": "python",
   "nbconvert_exporter": "python",
   "pygments_lexer": "ipython3",
   "version": "3.11.5"
  }
 },
 "nbformat": 4,
 "nbformat_minor": 5
}
